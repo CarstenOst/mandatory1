{
 "cells": [
  {
   "cell_type": "code",
   "execution_count": 1,
   "metadata": {},
   "outputs": [
    {
     "name": "stdout",
     "output_type": "stream",
     "text": [
      "3.9.13 (main, Aug 25 2022, 18:29:29) \n",
      "[Clang 12.0.0 ]\n"
     ]
    }
   ],
   "source": [
    "import sys\n",
    "print(sys.version)\n",
    "# This is currently made in version 3.9.13"
   ]
  },
  {
   "cell_type": "markdown",
   "source": [
    "Task 1:\n",
    "You are a junior developer in a software development company and your team leader wants you to analyze the efficiency of an algorithm, - A1. You have a binary version of the program, that implements the algorithm, available on a virtual machine in a cloud environment. You execute the program with the following inputs and you get the corresponding results:\n",
    "Input: n = 1; Result = 10 ms (milliseconds)\n",
    "Input: n = 4; Result = 160 ms\n",
    "Input: n = 100; Result 10000 ms (10 seconds)\n",
    "Assume the same functional relationship is valid for every n= 1...∞\n",
    "Which Big- notation function would you use to describe the time complexity of the algorithm A1? (15 points)\n",
    "\n",
    "Answer:\n",
    "The task states that the algorithm is being run on a cloud environment. I assume that this is still a local cloud environment and that there is no point in caring about different latencies that often occur when connecting to another server on an external network.\n",
    "It is clear from the second input that this algorithm has to be higher/worse than a linear big O(n). It is yet not quite exponential. The time taken to execute the function increases rapidly as the input size \"n\" increases, indicating a polynomial time complexity of at least O(n^2) (quadratic).\n"
   ],
   "metadata": {
    "collapsed": false
   }
  },
  {
   "cell_type": "markdown",
   "source": [
    "Task 2:\n",
    "Given  the  following  functions  ``n,  sqrt(n),  n^3 + 3n^2\",  n!,  log(n),  2n,  n*log(n),  2n^2\"``, representing the time complexity of 8 different algorithms, place their Big-Os from the fastest to the slowest. Illustrate by a plot (you can use any tools you want). Explanations: sqrt - square root, * - multiplication,! - factorial. (10 points)"
   ],
   "metadata": {
    "collapsed": false
   }
  },
  {
   "cell_type": "code",
   "execution_count": null,
   "outputs": [],
   "source": [
    "import numpy\n",
    "# Some global lambdas that will be used alot\n",
    "LOG_N = lambda n: numpy.math.log(n)\n",
    "SQRT_N = lambda n: numpy.math.sqrt(n)\n",
    "LINEAR = lambda n: n\n",
    "LINEAR_2 = lambda n: n*2\n",
    "NLOGN = lambda n: n*(numpy.math.log(n))\n",
    "QUADRATIC_TIMES_2 = lambda n: 2*(n**2)\n",
    "CUBIC_PLUS_QUADRATIC = lambda n: n**3 + 3*(n**2)\n",
    "FACTORIAL = lambda n: numpy.math.gamma(n+1) # math.factorial can't use real numbers"
   ],
   "metadata": {
    "collapsed": false
   }
  },
  {
   "cell_type": "code",
   "execution_count": null,
   "outputs": [],
   "source": [
    "import matplotlib.pyplot as plt\n",
    "def compactTimeComp2():\n",
    "    #This is the amount of coordinates to be created\n",
    "    length = 1000 # OverflowError if length is higher than 171, while multiplier is 1\n",
    "    #I added the multiplier to be able to use more coordinates, and thus a smoother curve\n",
    "    multiplier = 0.1\n",
    "    # We need arrays for matplotlib to plot points\n",
    "    # xLine is the one line all the algorithms use\n",
    "    xLine = []\n",
    "    logN = []           # log(n)\n",
    "    sqrt = []           # sqrt(n)\n",
    "    linear = []         # n\n",
    "    doubleLinear = []   # 2n\n",
    "    quasilinear = []    # O(n log(n))\n",
    "    #quadratic = []\n",
    "    #exponential = []\n",
    "    quadraticTimesTwo = [] # O(2∗n^2)\n",
    "    cubicPlusQuadratic = []\n",
    "    factorial = []\n",
    "    for i in range(1, length):\n",
    "        n = i * multiplier\n",
    "        xLine.append(n)\n",
    "        logN.append(LOG_N(n))\n",
    "        sqrt.append(SQRT_N(n))\n",
    "        linear.append(LINEAR(n)) # The linear lambda is pointless, but I will still use it\n",
    "        doubleLinear.append(LINEAR_2(n))\n",
    "        quasilinear.append(NLOGN(n))\n",
    "        #quadratic.append(n**2)\n",
    "        quadraticTimesTwo.append(QUADRATIC_TIMES_2(n))\n",
    "        cubicPlusQuadratic.append(CUBIC_PLUS_QUADRATIC(n))\n",
    "        #exponential.append(2**n)\n",
    "        factorial.append(FACTORIAL(n))\n",
    "\n",
    "    # Plotting to graph\n",
    "    plt.plot(xLine, logN,               label = \"O(log(n))\")\n",
    "    plt.plot(xLine, sqrt,               label = \"O(sqrt(n))\")\n",
    "    plt.plot(xLine, linear,             label = \"O(n)\")\n",
    "    plt.plot(xLine, doubleLinear,       label = \"O(2n)\")\n",
    "    plt.plot(xLine, quasilinear,        label = \"O(n*log(n)\")\n",
    "    #plt.plot(xLine, quadratic,          label = \"n^2 quadratic\")\n",
    "    plt.plot(xLine, quadraticTimesTwo,  label = \"O(2∗n^2)\")\n",
    "    plt.plot(xLine, cubicPlusQuadratic, label = \"O(n^3 + 3∗n^2)\")\n",
    "    #plt.plot(xLine, exponential,        label = \"2^n exponential\")\n",
    "    plt.plot(xLine, factorial,          label = \"O(n!)\")\n",
    "\n",
    "    plt.title('IS211 time complexity graph!')   # Giving a title to the graph\n",
    "    plt.ylim([0, 600])                          # Y axis limit\n",
    "    plt.xlabel('x - number of inputs')          # Naming the x-axis\n",
    "    plt.ylabel('y - total time')                # Naming the y-axis\n",
    "    plt.legend()                                # Show a legend on the plot\n",
    "    plt.show()                                  # Function to show the plot\n",
    "\n",
    "compactTimeComp2()"
   ],
   "metadata": {
    "collapsed": false
   }
  },
  {
   "cell_type": "markdown",
   "source": [
    "Task 3:\n",
    "Assume that each of the 8 algorithms from part (\"2\") takes f(n) milliseconds to solve the problem. For each algorithm calculate the largest size n for which the problem can be solved in the following times. - second, minute, hour, day, month, year and century. Discuss. (10 points)\n",
    "\n",
    "Answer:"
   ],
   "metadata": {
    "collapsed": false
   }
  },
  {
   "cell_type": "markdown",
   "source": [
    "Task 3\n",
    "For the log(n) it is pretty much impossible by using the code further below.\n",
    "But log is easy to reverse. So here is the answer for what 'n' is when log(n) =\n",
    "``Second:\t10^(1,000)``\n",
    "``Minute:\t10^(60,000)``\n",
    "``Hour: \t10^(3,600,000)``\n",
    "``Day: \t    10^(86,400,000)``\n",
    "``Month: \t10^(2,629,800,000)``\n",
    "``Year:     10^(31,557,600,000)``\n",
    "``Century:  10^(31,536,000,000,000)``\n",
    "Note that these numbers are based on the averages shown below"
   ],
   "metadata": {
    "collapsed": false
   }
  },
  {
   "cell_type": "code",
   "execution_count": null,
   "outputs": [],
   "source": [
    "# Now we need some more globals again\n",
    "# 1 second = 1000 milliseconds\n",
    "# 1 minute = 60 seconds = 60,000 milliseconds\n",
    "# 1 hour = 60 minutes = 3600 seconds = 3600,000 milliseconds\n",
    "# 1 day = 24 hours = 86400 seconds = 86,400,000 milliseconds\n",
    "# 1 month (30.44 days) = 2629800 seconds = 2,629,800,000 milliseconds\n",
    "# 1 year (365.24 days) = 31557600 seconds = 31,557,600,000 milliseconds\n",
    "# 1 century = 100 years = 31,536,000,000,000 milliseconds\n",
    "#Note: The number of days in a month and a year can vary, these values are based on an average.\n",
    "MILLISECOND = 1\n",
    "SECOND = MILLISECOND * 1000\n",
    "MINUTE = SECOND * 60\n",
    "HOUR = MINUTE * 60\n",
    "DAY = HOUR * 24\n",
    "MONTH = DAY * 30.44\n",
    "YEAR = DAY * 365.24\n",
    "CENTURY = YEAR * 100\n",
    "SECOND_TO_CENTURY = [SECOND, MINUTE, HOUR, DAY, MONTH, YEAR, CENTURY]"
   ],
   "metadata": {
    "collapsed": false
   }
  },
  {
   "cell_type": "code",
   "execution_count": null,
   "outputs": [],
   "source": [
    "# Task 3\n",
    "# Calculate 'n' in sqrt(n) = x\n",
    "for val in SECOND_TO_CENTURY:\n",
    "    # sqrt(n) = val\n",
    "    # n = val^2\n",
    "    # n = val*val\n",
    "    print(val*val)"
   ],
   "metadata": {
    "collapsed": false
   }
  },
  {
   "cell_type": "markdown",
   "source": [
    "sqrt(n):\n",
    "``Second:\t1,000 \t\t        * 1,000``\n",
    "``Minute:\t60,000 \t\t        * 60,000``\n",
    "``Hour: \t3,600,000 \t        * 3,600,000``\n",
    "``Day: \t    86,400,000 \t\t    * 86,400,000``\n",
    "``Month: \t2,629,800,000 \t    * 2,629,800,000``\n",
    "``Year: \t31,557,600,000 \t    * 31,557,600,000``\n",
    "``Century:  31,536,000,000,000 \t* 31,536,000,000,000``"
   ],
   "metadata": {
    "collapsed": false
   }
  },
  {
   "cell_type": "code",
   "execution_count": null,
   "outputs": [],
   "source": [
    "# Task 3: quadratic and higher\n",
    "from decimal import Decimal\n",
    "\n",
    "def isOneSecond(number):\n",
    "    return number >= SECOND\n",
    "def isOneMinute(number):\n",
    "    return number >= MINUTE\n",
    "def isOneHour(number):\n",
    "    return number >= HOUR\n",
    "def isOneDay(number):\n",
    "    return number >= DAY\n",
    "def isOneMonth(number):\n",
    "    return number >= MONTH\n",
    "def isOneYear(number):\n",
    "    return number >= YEAR\n",
    "def isOneCentury(number):\n",
    "    return number >= CENTURY\n",
    "def bigNumberConv(number):\n",
    "    if number > 100_000_000_000_000:\n",
    "        return \"{:.0E}\".format(Decimal(number)) # Format number to scientific\n",
    "    if type(number) is int:\n",
    "        return number\n",
    "    if number.is_integer():\n",
    "        return int(number)\n",
    "    return \"{:.2f}\".format(int(number * 100) / 100.0) # this makes it less accurate, but readable\n",
    "\n",
    "# This is stupid brute force\n",
    "# Made to favour the higher big O of n :)\n",
    "# Program will always run less than 6 seconds (MacBook Air M2) (depending on computer and increment value)\n",
    "def executeBigOTimeCrunch(lambda_expression, incrementValue = 1, label = \"No label :(\"):\n",
    "    # Just some flags, yes in \"wrong\" order, but it looks nice\n",
    "    isSecondExecuted = False\n",
    "    isMinuteExecuted = False\n",
    "    isMonthExecuted  = False\n",
    "    isHourExecuted   = False\n",
    "    isYearExecuted   = False\n",
    "    isDayExecuted    = False\n",
    "    n = 1\n",
    "    while True:\n",
    "        number = lambda_expression(n)\n",
    "        if not isSecondExecuted:\n",
    "            if isOneSecond(number):\n",
    "                print(\"Execution time for function big\", label)\n",
    "                print(\"Increment value set to:\", bigNumberConv(incrementValue))\n",
    "                print(\"one Second took\",    bigNumberConv(n), \"inputs\")\n",
    "                isSecondExecuted = True\n",
    "        if not isMinuteExecuted:\n",
    "            if isOneMinute(number):\n",
    "                print(\"one Minute took\",    bigNumberConv(n), \"inputs\")\n",
    "                isMinuteExecuted = True\n",
    "        if not isHourExecuted:\n",
    "            if isOneHour(number):\n",
    "                print(\"one Hour took\",      bigNumberConv(n), \"inputs\")\n",
    "                isHourExecuted = True\n",
    "        if not isDayExecuted:\n",
    "            if isOneDay(number):\n",
    "                print(\"one Day took\",       bigNumberConv(n), \"inputs\")\n",
    "                isDayExecuted = True\n",
    "        if not isMonthExecuted:\n",
    "            if isOneMonth(number):\n",
    "                print(\"one Month took\",     bigNumberConv(n), \"inputs\")\n",
    "                isMonthExecuted = True\n",
    "        if not isYearExecuted:\n",
    "            if isOneYear(number):\n",
    "                print(\"one Year took\",      bigNumberConv(n), \"inputs\")\n",
    "                isYearExecuted = True\n",
    "\n",
    "        if isOneCentury(number):\n",
    "            print(\"one Century took\",       bigNumberConv(n), \"inputs\")\n",
    "            print(\"\")\n",
    "            print(\"\")\n",
    "            break # Don't need to loop anymore if this happens\n",
    "\n",
    "        if n >= 6_000_000 * incrementValue: # Just so I don't mess it up\n",
    "            print(\"The time after\", bigNumberConv(n), \"inputs became\", bigNumberConv(number), \"milliseconds\")\n",
    "            print(\"or\", numpy.math.floor(number/1000), \"seconds\")\n",
    "            print(\"or\", numpy.math.floor(number/1000/60), \"minutes\")\n",
    "            print(\"or\", numpy.math.floor(number/1000/60/60), \"hours\")\n",
    "            print(\"or\", numpy.math.floor(number/1000/60/60/24), \"days\")\n",
    "            print(\"\")\n",
    "            print(\"\")\n",
    "            break\n",
    "        n += incrementValue"
   ],
   "metadata": {
    "collapsed": false
   }
  },
  {
   "cell_type": "code",
   "execution_count": null,
   "outputs": [],
   "source": [
    "# Some lambdas\n",
    "#executeBigOTimeCrunch(LOG_N,                100**1000,  \"log(n)\") # No point in trying\n",
    "#executeBigOTimeCrunch(SQRT_N,               10**19,     \"sqrt(n)\")\n",
    "#executeBigOTimeCrunch(LINEAR,               10**5.75,   \"O(n)\")\n",
    "#executeBigOTimeCrunch(LINEAR_2,             10**5.45,   \"O(n*2)\")\n",
    "#executeBigOTimeCrunch(NLOGN,                1000,       \"O(n*(log(n)))\") # Not accurate\n",
    "executeBigOTimeCrunch(QUADRATIC_TIMES_2,    2.1,        \"O(2*(n^2))\")\n",
    "executeBigOTimeCrunch(CUBIC_PLUS_QUADRATIC, 0.1,        \"O(n^3 + 3*(n^2))\")\n",
    "executeBigOTimeCrunch(FACTORIAL,            0.01,       \"O(n!)\")"
   ],
   "metadata": {
    "collapsed": false
   }
  },
  {
   "cell_type": "markdown",
   "source": [],
   "metadata": {
    "collapsed": false
   }
  },
  {
   "cell_type": "code",
   "execution_count": null,
   "outputs": [],
   "source": [
    "# Calculate 'n' in sqrt(n) = x\n",
    "# Square root of a number(x) is whatever number(y) you have to time by itself to get wanted number(y*y=x)\n",
    "# We can do the following:\n",
    "for val in SECOND_TO_CENTURY:\n",
    "    # sqrt(n) = val\n",
    "    # n = val^2\n",
    "    # n = val*val\n",
    "    print(f'{val*val:,}') # This formatting is equivalent to old python 2.7: '{:,}'.format(val*val)"
   ],
   "metadata": {
    "collapsed": false
   }
  },
  {
   "cell_type": "code",
   "execution_count": null,
   "outputs": [],
   "source": [
    "# How to find 'n' in n*log(n)\n",
    "# Using Newton Raphson method\n",
    "# Could also use the bisection method\n",
    "TARGET_NAMES = [\"Second\", \"Minute\", \"Hour\", \"Day\", \"Month\", \"Year\", \"Century\"]\n",
    "def newtonRaphson(n, target):\n",
    "    epsilon = 0.00001\n",
    "    while True:\n",
    "        newN = n - (NLOGN(n) - target) / (1 + LOG_N(n))\n",
    "        if abs(n - newN) < epsilon:\n",
    "            return newN\n",
    "        n = newN\n",
    "\n",
    "\n",
    "def printNinNlogN():\n",
    "    i = 0\n",
    "    for target in SECOND_TO_CENTURY:\n",
    "        print(f\"{TARGET_NAMES[i]} n = {bigNumberConv(newtonRaphson(100, target))}\")\n",
    "        i += 1\n",
    "printNinNlogN()"
   ],
   "metadata": {
    "collapsed": false
   }
  },
  {
   "cell_type": "code",
   "execution_count": null,
   "outputs": [],
   "source": [
    "# How to find O(n^3 + 3*(n^2))\n",
    "# Will not work without the square root calculation code block, and global variables for Second to century\n",
    "def newtonRaphson(n, target):\n",
    "    epsilon = 0.00001\n",
    "    while True:\n",
    "        #f = (n**3 + 3 * n**2 - target)\n",
    "        #fPrime = (3 * n**2 + 6 * n)\n",
    "        nNew = n - (CUBIC_PLUS_QUADRATIC(n) - target) / (3 * n**2 + 6 * n)\n",
    "        if abs(n - nNew) < epsilon:\n",
    "            return nNew\n",
    "        n = nNew\n",
    "\n",
    "def printCubicN():\n",
    "    i = 0\n",
    "    for target in SECOND_TO_CENTURY:\n",
    "        print(f\"{TARGET_NAMES[i]} n = {bigNumberConv(newtonRaphson(100, target))}\")\n",
    "        i += 1\n",
    "printCubicN()"
   ],
   "metadata": {
    "collapsed": false
   }
  },
  {
   "cell_type": "markdown",
   "source": [
    "Task 4:\n",
    "Find the smallest value of n such that an algorithm whose running time is 144*n2 runs faster than an algorithm whose running time is 2n on the same machine? (10 points)"
   ],
   "metadata": {
    "collapsed": false
   }
  },
  {
   "cell_type": "code",
   "execution_count": null,
   "outputs": [],
   "source": [
    "# Task 4:\n",
    "# Don't want lambdas now. I could, but won't\n",
    "def exponential(n):\n",
    "    return 2**n\n",
    "\n",
    "def hundredAndFortyFour(n):\n",
    "    return 144*(n**2)\n",
    "# Brute force again\n",
    "def smallestValueOfN():\n",
    "    i = 1\n",
    "    while True:\n",
    "        expo = exponential(i)\n",
    "        hundredAnd44 = hundredAndFortyFour(i)\n",
    "        if hundredAnd44 < expo:\n",
    "            print(\"n =\", i)\n",
    "            print(\"2**n output =\", expo)\n",
    "            print(\"144*n**2 output =\", hundredAnd44)\n",
    "            print('')\n",
    "            print(i, \"number of inputs before 144n**2 is faster than 2^n\")\n",
    "            break\n",
    "        i += 0.01\n",
    "\n",
    "smallestValueOfN()"
   ],
   "metadata": {
    "collapsed": false
   }
  },
  {
   "cell_type": "markdown",
   "source": [
    "Task 5:\n",
    "The Fibonacci Sequence is the series of numbers:\n",
    "0, 1, 1, 2, 3, 5, 8, 13, 21, 34, …\n",
    "The next number is found by adding up the two numbers before it: the 2 is found by adding the two numbers before it (1+1), the 3 is found by adding the two numbers before it (1+2), the 5 is (2+3), and so on! Implement this algorithm in python or Java and find the Big-O function. Discuss. (15 points)\n"
   ],
   "metadata": {
    "collapsed": false
   }
  },
  {
   "cell_type": "code",
   "execution_count": 12,
   "outputs": [],
   "source": [
    "# Task 5\n",
    "class FibonacciSequence:\n",
    "    def __init__(self, num):\n",
    "        self.fibonacciSequence = [0, 1] # Need a start value\n",
    "        for unused_i in range(0, num):\n",
    "            self.fibonacciSequence.append(sum(self.fibonacciSequence[-2:]))   # O(n)\n",
    "\n",
    "    def print(self):\n",
    "        print(self.fibonacciSequence)\n"
   ],
   "metadata": {
    "collapsed": false
   }
  },
  {
   "cell_type": "code",
   "execution_count": 13,
   "outputs": [
    {
     "name": "stdout",
     "output_type": "stream",
     "text": [
      "[0, 1, 1, 2, 3, 5, 8, 13, 21, 34, 55, 89, 144, 233, 377, 610, 987, 1597, 2584, 4181, 6765, 10946]\n"
     ]
    }
   ],
   "source": [
    "f = FibonacciSequence(20)\n",
    "f.print()\n",
    "# Algorithm is Big O(n) (linear)\n",
    "# Max value to insert in the FibonacciSequence class is 5345\n",
    "# The reason for this is that the FibonacciSequence number itself is O(2^n)\n",
    "# At 5346 and higher the IOPub data rate os exceeded\n",
    "# This can be edited in the config variable `--NotebookApp.iopub_data_rate_limit`."
   ],
   "metadata": {
    "collapsed": false
   }
  },
  {
   "cell_type": "markdown",
   "source": [
    "Task 6:\n",
    "Assume an algorithm A2 (linear search) is run on a machine M1 with a speed ratio of 0.1, and an algorithm A3 (binary search) is run on a machine M2 with a speed ratio of 500 (in other words the M1 is on average 5000 times faster than M2).\n",
    "Define running times for A2 and A3 expressed as a function of n (consider the speed ratio of the machine in a form of a constant in the expression).\n",
    "Find the time consumed by A2 and A3, respectively executing on M1 and M2. when  the  n  is  approaching  10%.\n",
    "Discuss  the  results.  What  kind  of  challenges,  related  to asymptotic analysis, can you mention, for choosing between algorithms for a given problem which must be solved on specific hardware? (10 points)\n"
   ],
   "metadata": {
    "collapsed": false
   }
  },
  {
   "cell_type": "markdown",
   "source": [
    "Task 6:\n",
    "Answer:\n",
    "Challenges related to asymptotic analysis can be such as the size of the input, hardware and software. Also, a lot of the faster time complexities are often much more complicated. Let's say the algorithm does not usually take a lot of n inputs, then either is fine. But if the inputs are going to be very big then the A3 algorithm is to prefer, no matter what machine. Later down I have a graph of all the different combinations of algorithms and machines. This visualizes the best choice for any said input."
   ],
   "metadata": {
    "collapsed": false
   }
  },
  {
   "cell_type": "code",
   "execution_count": 33,
   "outputs": [
    {
     "name": "stdout",
     "output_type": "stream",
     "text": [
      "Lower number means lower runtime\n",
      "A2: 67081.30\n",
      "A3: 6708.12\n",
      "A3 run time is 10% of A2 after n = 670813\n"
     ]
    },
    {
     "data": {
      "text/plain": "<Figure size 640x480 with 1 Axes>",
      "image/png": "[encoded data removed]"
     },
     "metadata": {},
     "output_type": "display_data"
    }
   ],
   "source": [
    "# Task 6\n",
    "# A2 linear search, M1 speed ratio: c1 = 0.1\n",
    "# A3 binary search, M2 speed ratio: c2 = 500\n",
    "# T(n) = c * n\n",
    "# M1 T(n) = 0.1 * n\n",
    "# M2 T(n) = 500 * n\n",
    "\n",
    "def a2(num):\n",
    "    return 0.1 * num\n",
    "# Binary search (best case) log(n)\n",
    "def a3(num):\n",
    "    return 500 * LOG_N(num)\n",
    "\n",
    "# Ugly code nesting incoming, just because I can\n",
    "def bruteForceTask6():\n",
    "    xLine = []\n",
    "    A2List = []\n",
    "    A3List = []\n",
    "    for n in range(2, 10**6):\n",
    "        A2 = a2(n)\n",
    "        A3 = a3(n)\n",
    "        xLine.append(n)\n",
    "        A2List.append(A2)\n",
    "        A3List.append(A3)\n",
    "        if A2/10 >= A3:\n",
    "            print(\"Lower number means lower runtime\")\n",
    "            print(\"A2:\", bigNumberConv(A2))\n",
    "            print(\"A3:\", bigNumberConv(A3))\n",
    "            print(\"A3 run time is 10% of A2 after n =\", n)\n",
    "            break\n",
    "\n",
    "    plt.plot(xLine, A2List, label = \"A2, Linear, M1\")\n",
    "    plt.plot(xLine, A3List, label = \"A3, Log, M2\")\n",
    "    plt.xlabel('x - number of inputs')\n",
    "    plt.ylabel('y - total time')\n",
    "    plt.legend()\n",
    "    plt.show()\n",
    "\n",
    "bruteForceTask6()\n",
    "\n",
    "# As the graph shows, it is best to use the A2 algorithm in the first 54533 inputs.\n",
    "# After that it makes more sense using the A3 algorithm and M2.\n",
    "# However, the best would be to use the A3 algorithm on the M1\n",
    "# You can test this by making the A3() return 0.1 * LOG_N(num)"
   ],
   "metadata": {
    "collapsed": false
   }
  },
  {
   "cell_type": "code",
   "execution_count": 32,
   "outputs": [
    {
     "data": {
      "text/plain": "<Figure size 640x480 with 1 Axes>",
      "image/png": "[encoded data removed]"
     },
     "metadata": {},
     "output_type": "display_data"
    }
   ],
   "source": [
    "# Now this is changed to snake_case to make it a little easier to read\n",
    "# This class is made to simplify the former codeblock, and make it reusable with lambdas\n",
    "class Algorithm:\n",
    "    def __init__(self, run_time_function, speed_ratio):\n",
    "        self.run_time_function = run_time_function\n",
    "        self.speed_ratio = speed_ratio\n",
    "\n",
    "    def run(self, n):\n",
    "        return self.speed_ratio * self.run_time_function(n)\n",
    "\n",
    "    @staticmethod\n",
    "    def predefinedMachines():\n",
    "        # A2 O(n)\n",
    "        a2_on_m1    = Algorithm(lambda n: n, 0.1)\n",
    "        a2_on_m2    = Algorithm(lambda n: n, 500)\n",
    "\n",
    "        # A3 O(log(n)\n",
    "        a3_on_m1    = Algorithm(lambda n: LOG_N(n), 0.1)\n",
    "        a3_on_m2    = Algorithm(lambda n: LOG_N(n), 500)\n",
    "\n",
    "        n = range(1, 10**6) # The task in canvas was updated to 10^6\n",
    "\n",
    "        # A2 O(n)\n",
    "        a2_m1_times = [a2_on_m1.run(i) for i in n] # Short but bad code (loops 4 times through n)\n",
    "        a2_m2_times = [a2_on_m2.run(i) for i in n]\n",
    "\n",
    "        # A3 O(log(n)\n",
    "        a3_m1_times = [a3_on_m1.run(i) for i in n]\n",
    "        a3_m2_times = [a3_on_m2.run(i) for i in n]\n",
    "\n",
    "        # Plotting\n",
    "        # A2 O(n)\n",
    "        plt.plot(n, a2_m1_times, label=\"A2 on M1\")\n",
    "        plt.plot(n, a2_m2_times, label=\"A2 on M2\")\n",
    "\n",
    "        # A3 O(log(n)\n",
    "        plt.plot(n, a3_m1_times, label=\"A3 on M1\")\n",
    "        plt.plot(n, a3_m2_times, label=\"A3 on M2\")\n",
    "\n",
    "        plt.xlabel('x - number of inputs')\n",
    "        plt.ylabel('y - total time')\n",
    "        plt.ylim([0, 10000])\n",
    "        plt.legend()\n",
    "        plt.show()\n",
    "\n",
    "Algorithm.predefinedMachines()"
   ],
   "metadata": {
    "collapsed": false
   }
  },
  {
   "cell_type": "markdown",
   "source": [
    "Task 7:\n",
    "You’ve been asked to adapt some code that maintains a record about each planet and their moons in a solar system like ours into a system that will store a record about every planet and moon in every known galaxy. The record structure will be a little larger for each planet to hold some new attributes. It’s likely that the records will be added and updated “randomly” as telescopes and  other  sensors  point  at  different  parts  of  the  universe  over  time,  filling  in  some  initial attributes of the records, and then updating others during frequent observations. The current code uses an unordered array for the records. Would you recommend any changes? If so, why? (10 points)"
   ],
   "metadata": {
    "collapsed": false
   }
  },
  {
   "cell_type": "markdown",
   "source": [
    "Task 7:\n",
    "Answer:\n",
    "In 2021 it was estimated to be around 2 trillion (short scale) galaxies in the observable universe. In the Milky Way there are 3916 solar systems with 5241 confirmed exoplanets that we know of. In our solar system there are 8 planets and 179 moons, averaging 22.375 moons per planet. So if every solar system in each galaxy at least had the same amount of solar systems, planets and moons it will be ``2*3916*(8+179)``= 1,464,584 trillion natural satellites.\n",
    "\n",
    "With this in mind I would highly recommend to change the code to use a B-Tree (50-80% reduction of memory compared to Red-Black Tree - that itself is also quite good).\n",
    "A B-Tree has the worst case time complexity of log(n), making it perfect for big datasets. Now most databases uses this already in some way, such as MySQL and PostgreSQL.\n"
   ],
   "metadata": {
    "collapsed": false
   }
  },
  {
   "cell_type": "code",
   "execution_count": 16,
   "metadata": {},
   "outputs": [
    {
     "name": "stdout",
     "output_type": "stream",
     "text": [
      "retsnomeikooC\n",
      "gnitseretni si sihT\n"
     ]
    }
   ],
   "source": [
    "# Ignore everything from here and down\n",
    "# Reversal of string, slice and loop\n",
    "def reverseStringSlice(text):\n",
    "    return text[::-1]\n",
    "\n",
    "def reverseStringLoop(text):\n",
    "    temp = \"\"\n",
    "    for i in range(-1, -(len(text)+1), -1):\n",
    "        temp += text[i]\n",
    "    return temp\n",
    "\n",
    "\n",
    "print(reverseStringLoop(\"Cookiemonster\"))\n",
    "print(reverseStringSlice(\"This is interesting\"))"
   ]
  },
  {
   "cell_type": "code",
   "execution_count": 17,
   "outputs": [],
   "source": [
    "# Bonus stuff from lecture (08.02.2023) - dd.mm.yyyy\n",
    "# Node ofc\n",
    "class Node:\n",
    "    def __init__(self, data = None, next = None):\n",
    "        self.data = data\n",
    "        self.next = next"
   ],
   "metadata": {
    "collapsed": false
   }
  },
  {
   "cell_type": "code",
   "execution_count": 18,
   "outputs": [],
   "source": [
    "# Linked list example\n",
    "class LinkedList:\n",
    "    def __init__(self):\n",
    "        self.head = None\n",
    "\n",
    "    # Insertion method\n",
    "    def insert(self, data):\n",
    "        newNode = Node(data)\n",
    "        if self.head:\n",
    "            current = self.head\n",
    "            while current.next:\n",
    "                current = current.next\n",
    "            current.next = newNode\n",
    "        else:\n",
    "            self.head = newNode\n",
    "\n",
    "    def delete(self, dataToDelete):\n",
    "        current = self.head\n",
    "        if current is not None:\n",
    "            if current.data == dataToDelete:\n",
    "                self.head = current.next\n",
    "                del current\n",
    "                return\n",
    "        prev = None\n",
    "        while current is not None:\n",
    "            if current.data == dataToDelete:\n",
    "                break\n",
    "            prev = current\n",
    "            current = current.next\n",
    "        if current is None:\n",
    "            return\n",
    "        prev.next = current.next\n",
    "        del current\n",
    "\n",
    "    def printOneByOne(self):\n",
    "        current = self.head\n",
    "        while current:\n",
    "            print(current.data)\n",
    "            current = current.next\n",
    "\n",
    "    def printAllAsList(self):\n",
    "        current = self.head\n",
    "        temp = []\n",
    "        while current:\n",
    "            temp.append(current.data)\n",
    "            current = current.next\n",
    "        print(temp)"
   ],
   "metadata": {
    "collapsed": false
   }
  },
  {
   "cell_type": "code",
   "execution_count": 19,
   "outputs": [
    {
     "name": "stdout",
     "output_type": "stream",
     "text": [
      "cake\n",
      "4\n",
      "5\n",
      "\n",
      "[4, 5]\n"
     ]
    }
   ],
   "source": [
    "LL = LinkedList()\n",
    "LL.insert(\"cake\")\n",
    "LL.insert(4)\n",
    "LL.insert(5)\n",
    "LL.printOneByOne()\n",
    "print() # Just some space\n",
    "\n",
    "LL.delete(\"cake\") # You can try to change this to 4 or 5, still works\n",
    "LL.printAllAsList()"
   ],
   "metadata": {
    "collapsed": false
   }
  },
  {
   "cell_type": "code",
   "execution_count": 20,
   "metadata": {},
   "outputs": [],
   "source": [
    "# Bonus code, no longer task submission\n",
    "# A class of card that I made because I was bored\n",
    "class Card:\n",
    "    def __init__(self, valor, number):\n",
    "        self.valor = valor\n",
    "        self.number = number\n",
    "\n",
    "    def pValor(self):\n",
    "        return self.valor\n",
    "\n",
    "    def pNumber(self):\n",
    "        return self.number\n",
    "\n",
    "    def pCard(self):\n",
    "        return str(self.valor) + \" \" + str(self.number)"
   ]
  },
  {
   "cell_type": "code",
   "execution_count": 21,
   "outputs": [],
   "source": [
    "import random\n",
    "# A class meant to hold a stack of the class \"Card\", hence the name:\n",
    "class StackOfCards:\n",
    "    def __init__(self):\n",
    "        self.stack = []\n",
    "        self.cardCount = 0\n",
    "        valor = [\"Kløver\", \"Hjerter\", \"Ruter\", \"Spar\"]\n",
    "        for val in valor:\n",
    "            for num in range(1, 14):\n",
    "                self.cardCount += 1\n",
    "                self.stack.append(Card(val, num))\n",
    "                #print(val + \" \" + str(num) + \" was created\")\n",
    "        print(\"A stack of\", self.cardCount, \"cards were created\")\n",
    "\n",
    "    def getStack(self):\n",
    "        return self.stack\n",
    "\n",
    "    def printStack(self):\n",
    "        for card in self.stack:\n",
    "            print(card.pCard())\n",
    "\n",
    "    def shuffleStack(self):\n",
    "        print(\"\")\n",
    "        print(\"Shuffling cards…\")\n",
    "        for i in range(0, 360): # Higher range means more shuffling\n",
    "            rnd = random.randint(0, 51)\n",
    "            rnd2 = random.randint(0, 51)\n",
    "            if rnd == rnd2:\n",
    "                continue\n",
    "            self.__swapIndex(rnd, rnd2)\n",
    "\n",
    "    def __swapIndex(self, index1, index2):  # \"Private\" method\n",
    "        temp = self.stack[index1]\n",
    "        self.stack[index1] = self.stack[index2]\n",
    "        self.stack[index2] = temp"
   ],
   "metadata": {
    "collapsed": false
   }
  },
  {
   "cell_type": "code",
   "execution_count": 22,
   "outputs": [
    {
     "name": "stdout",
     "output_type": "stream",
     "text": [
      "A stack of 52 cards were created\n",
      "Kløver 1\n",
      "Kløver 2\n",
      "Kløver 3\n",
      "Kløver 4\n",
      "Kløver 5\n",
      "Kløver 6\n",
      "Kløver 7\n",
      "Kløver 8\n",
      "Kløver 9\n",
      "Kløver 10\n",
      "Kløver 11\n",
      "Kløver 12\n",
      "Kløver 13\n",
      "Hjerter 1\n",
      "Hjerter 2\n",
      "Hjerter 3\n",
      "Hjerter 4\n",
      "Hjerter 5\n",
      "Hjerter 6\n",
      "Hjerter 7\n",
      "Hjerter 8\n",
      "Hjerter 9\n",
      "Hjerter 10\n",
      "Hjerter 11\n",
      "Hjerter 12\n",
      "Hjerter 13\n",
      "Ruter 1\n",
      "Ruter 2\n",
      "Ruter 3\n",
      "Ruter 4\n",
      "Ruter 5\n",
      "Ruter 6\n",
      "Ruter 7\n",
      "Ruter 8\n",
      "Ruter 9\n",
      "Ruter 10\n",
      "Ruter 11\n",
      "Ruter 12\n",
      "Ruter 13\n",
      "Spar 1\n",
      "Spar 2\n",
      "Spar 3\n",
      "Spar 4\n",
      "Spar 5\n",
      "Spar 6\n",
      "Spar 7\n",
      "Spar 8\n",
      "Spar 9\n",
      "Spar 10\n",
      "Spar 11\n",
      "Spar 12\n",
      "Spar 13\n",
      "\n",
      "Shuffling cards…\n",
      "Spar 2\n",
      "Kløver 9\n",
      "Ruter 2\n",
      "Hjerter 4\n",
      "Ruter 10\n",
      "Kløver 4\n",
      "Ruter 12\n",
      "Ruter 8\n",
      "Kløver 11\n",
      "Hjerter 12\n",
      "Spar 6\n",
      "Spar 12\n",
      "Kløver 10\n",
      "Spar 1\n",
      "Hjerter 9\n",
      "Spar 5\n",
      "Kløver 1\n",
      "Kløver 2\n",
      "Ruter 9\n",
      "Spar 9\n",
      "Ruter 7\n",
      "Ruter 13\n",
      "Hjerter 13\n",
      "Hjerter 5\n",
      "Hjerter 10\n",
      "Kløver 7\n",
      "Ruter 11\n",
      "Hjerter 8\n",
      "Spar 11\n",
      "Kløver 13\n",
      "Spar 8\n",
      "Ruter 1\n",
      "Spar 7\n",
      "Ruter 3\n",
      "Ruter 6\n",
      "Kløver 5\n",
      "Kløver 3\n",
      "Hjerter 1\n",
      "Ruter 5\n",
      "Hjerter 3\n",
      "Hjerter 7\n",
      "Spar 3\n",
      "Kløver 12\n",
      "Spar 4\n",
      "Hjerter 11\n",
      "Spar 10\n",
      "Spar 13\n",
      "Hjerter 2\n",
      "Ruter 4\n",
      "Kløver 6\n",
      "Kløver 8\n",
      "Hjerter 6\n"
     ]
    }
   ],
   "source": [
    "StackOfCardsVariable = StackOfCards()\n",
    "StackOfCardsVariable.printStack()\n",
    "StackOfCardsVariable.shuffleStack()\n",
    "StackOfCardsVariable.printStack()"
   ],
   "metadata": {
    "collapsed": false
   }
  }
 ],
 "metadata": {
  "kernelspec": {
   "display_name": "Python 3 (ipykernel)",
   "language": "python",
   "name": "python3"
  },
  "language_info": {
   "codemirror_mode": {
    "name": "ipython",
    "version": 3
   },
   "file_extension": ".py",
   "mimetype": "text/x-python",
   "name": "python",
   "nbconvert_exporter": "python",
   "pygments_lexer": "ipython3",
   "version": "3.9.13"
  }
 },
 "nbformat": 4,
 "nbformat_minor": 1
}
